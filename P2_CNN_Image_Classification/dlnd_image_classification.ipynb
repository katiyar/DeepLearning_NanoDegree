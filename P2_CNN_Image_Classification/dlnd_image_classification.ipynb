{
 "cells": [
  {
   "cell_type": "markdown",
   "metadata": {
    "collapsed": true,
    "deletable": true,
    "editable": true
   },
   "source": [
    "# Image Classification\n",
    "In this project, you'll classify images from the [CIFAR-10 dataset](https://www.cs.toronto.edu/~kriz/cifar.html).  The dataset consists of airplanes, dogs, cats, and other objects. You'll preprocess the images, then train a convolutional neural network on all the samples. The images need to be normalized and the labels need to be one-hot encoded.  You'll get to apply what you learned and build a convolutional, max pooling, dropout, and fully connected layers.  At the end, you'll get to see your neural network's predictions on the sample images.\n",
    "## Get the Data\n",
    "Run the following cell to download the [CIFAR-10 dataset for python](https://www.cs.toronto.edu/~kriz/cifar-10-python.tar.gz)."
   ]
  },
  {
   "cell_type": "code",
   "execution_count": 1,
   "metadata": {
    "collapsed": false,
    "deletable": true,
    "editable": true
   },
   "outputs": [
    {
     "name": "stdout",
     "output_type": "stream",
     "text": [
      "All files found!\n"
     ]
    }
   ],
   "source": [
    "\"\"\"\n",
    "DON'T MODIFY ANYTHING IN THIS CELL THAT IS BELOW THIS LINE\n",
    "\"\"\"\n",
    "from urllib.request import urlretrieve\n",
    "from os.path import isfile, isdir\n",
    "from tqdm import tqdm\n",
    "import problem_unittests as tests\n",
    "import tarfile\n",
    "\n",
    "cifar10_dataset_folder_path = 'cifar-10-batches-py'\n",
    "\n",
    "# Use Floyd's cifar-10 dataset if present\n",
    "floyd_cifar10_location = '/input/cifar-10/python.tar.gz'\n",
    "if isfile(floyd_cifar10_location):\n",
    "    tar_gz_path = floyd_cifar10_location\n",
    "else:\n",
    "    tar_gz_path = 'cifar-10-python.tar.gz'\n",
    "\n",
    "class DLProgress(tqdm):\n",
    "    last_block = 0\n",
    "\n",
    "    def hook(self, block_num=1, block_size=1, total_size=None):\n",
    "        self.total = total_size\n",
    "        self.update((block_num - self.last_block) * block_size)\n",
    "        self.last_block = block_num\n",
    "\n",
    "if not isfile(tar_gz_path):\n",
    "    with DLProgress(unit='B', unit_scale=True, miniters=1, desc='CIFAR-10 Dataset') as pbar:\n",
    "        urlretrieve(\n",
    "            'https://www.cs.toronto.edu/~kriz/cifar-10-python.tar.gz',\n",
    "            tar_gz_path,\n",
    "            pbar.hook)\n",
    "\n",
    "if not isdir(cifar10_dataset_folder_path):\n",
    "    with tarfile.open(tar_gz_path) as tar:\n",
    "        tar.extractall()\n",
    "        tar.close()\n",
    "\n",
    "\n",
    "tests.test_folder_path(cifar10_dataset_folder_path)"
   ]
  },
  {
   "cell_type": "markdown",
   "metadata": {
    "deletable": true,
    "editable": true
   },
   "source": [
    "## Explore the Data\n",
    "The dataset is broken into batches to prevent your machine from running out of memory.  The CIFAR-10 dataset consists of 5 batches, named `data_batch_1`, `data_batch_2`, etc.. Each batch contains the labels and images that are one of the following:\n",
    "* airplane\n",
    "* automobile\n",
    "* bird\n",
    "* cat\n",
    "* deer\n",
    "* dog\n",
    "* frog\n",
    "* horse\n",
    "* ship\n",
    "* truck\n",
    "\n",
    "Understanding a dataset is part of making predictions on the data.  Play around with the code cell below by changing the `batch_id` and `sample_id`. The `batch_id` is the id for a batch (1-5). The `sample_id` is the id for a image and label pair in the batch.\n",
    "\n",
    "Ask yourself \"What are all possible labels?\", \"What is the range of values for the image data?\", \"Are the labels in order or random?\".  Answers to questions like these will help you preprocess the data and end up with better predictions."
   ]
  },
  {
   "cell_type": "code",
   "execution_count": 3,
   "metadata": {
    "collapsed": false,
    "deletable": true,
    "editable": true
   },
   "outputs": [
    {
     "name": "stdout",
     "output_type": "stream",
     "text": [
      "\n",
      "Stats of batch 4:\n",
      "Samples: 10000\n",
      "Label Counts: {0: 1003, 1: 963, 2: 1041, 3: 976, 4: 1004, 5: 1021, 6: 1004, 7: 981, 8: 1024, 9: 983}\n",
      "First 20 Labels: [0, 6, 0, 2, 7, 2, 1, 2, 4, 1, 5, 6, 6, 3, 1, 3, 5, 5, 8, 1]\n",
      "\n",
      "Example of Image 5:\n",
      "Image - Min Value: 13 Max Value: 169\n",
      "Image - Shape: (32, 32, 3)\n",
      "Label - Label Id: 2 Name: bird\n"
     ]
    },
    {
     "data": {
      "image/png": "[encoded data removed]",
      "text/plain": [
       "<matplotlib.figure.Figure at 0x7fdbb60b6208>"
      ]
     },
     "metadata": {
      "image/png": {
       "height": 250,
       "width": 253
      }
     },
     "output_type": "display_data"
    }
   ],
   "source": [
    "%matplotlib inline\n",
    "%config InlineBackend.figure_format = 'retina'\n",
    "\n",
    "import helper\n",
    "import numpy as np\n",
    "\n",
    "# Explore the dataset\n",
    "batch_id = 4\n",
    "sample_id = 5\n",
    "helper.display_stats(cifar10_dataset_folder_path, batch_id, sample_id)"
   ]
  },
  {
   "cell_type": "markdown",
   "metadata": {
    "deletable": true,
    "editable": true
   },
   "source": [
    "## Implement Preprocess Functions\n",
    "### Normalize\n",
    "In the cell below, implement the `normalize` function to take in image data, `x`, and return it as a normalized Numpy array. The values should be in the range of 0 to 1, inclusive.  The return object should be the same shape as `x`."
   ]
  },
  {
   "cell_type": "code",
   "execution_count": 4,
   "metadata": {
    "collapsed": false,
    "deletable": true,
    "editable": true
   },
   "outputs": [
    {
     "name": "stdout",
     "output_type": "stream",
     "text": [
      "Tests Passed\n"
     ]
    }
   ],
   "source": [
    "def normalize(x):\n",
    "    \"\"\"\n",
    "    Normalize a list of sample image data in the range of 0 to 1\n",
    "    : x: List of image data.  The image shape is (32, 32, 3)\n",
    "    : return: Numpy array of normalize data\n",
    "    \"\"\"\n",
    "    # TODO: Implement Function\n",
    "    x_normalized = x/255\n",
    "    return x_normalized\n",
    "\n",
    "\n",
    "\"\"\"\n",
    "DON'T MODIFY ANYTHING IN THIS CELL THAT IS BELOW THIS LINE\n",
    "\"\"\"\n",
    "tests.test_normalize(normalize)"
   ]
  },
  {
   "cell_type": "markdown",
   "metadata": {
    "deletable": true,
    "editable": true
   },
   "source": [
    "### One-hot encode\n",
    "Just like the previous code cell, you'll be implementing a function for preprocessing.  This time, you'll implement the `one_hot_encode` function. The input, `x`, are a list of labels.  Implement the function to return the list of labels as One-Hot encoded Numpy array.  The possible values for labels are 0 to 9. The one-hot encoding function should return the same encoding for each value between each call to `one_hot_encode`.  Make sure to save the map of encodings outside the function.\n",
    "\n",
    "Hint: Don't reinvent the wheel."
   ]
  },
  {
   "cell_type": "code",
   "execution_count": 7,
   "metadata": {
    "collapsed": false,
    "deletable": true,
    "editable": true
   },
   "outputs": [
    {
     "name": "stdout",
     "output_type": "stream",
     "text": [
      "Tests Passed\n"
     ]
    }
   ],
   "source": [
    "from sklearn import preprocessing\n",
    "\n",
    "# encoding array\n",
    "labels = np.arange(10)\n",
    "\n",
    "# Create the encoder\n",
    "lb = preprocessing.LabelBinarizer()\n",
    "\n",
    "# the encoder finds the classes and assigns one-hot vectors \n",
    "lb.fit(labels)\n",
    "\n",
    "def one_hot_encode(x):\n",
    "    \"\"\"\n",
    "    One hot encode a list of sample labels. Return a one-hot encoded vector for each label.\n",
    "    : x: List of sample Labels\n",
    "    : return: Numpy array of one-hot encoded labels\n",
    "    \"\"\"\n",
    "    # TODO: Implement Function\n",
    "    \n",
    "    # transform & the labels into one-hot encoded vectors\n",
    "    \n",
    "    return lb.transform(x)\n",
    "\n",
    "\n",
    "\"\"\"\n",
    "DON'T MODIFY ANYTHING IN THIS CELL THAT IS BELOW THIS LINE\n",
    "\"\"\"\n",
    "tests.test_one_hot_encode(one_hot_encode)"
   ]
  },
  {
   "cell_type": "markdown",
   "metadata": {
    "deletable": true,
    "editable": true
   },
   "source": [
    "### Randomize Data\n",
    "As you saw from exploring the data above, the order of the samples are randomized.  It doesn't hurt to randomize it again, but you don't need to for this dataset."
   ]
  },
  {
   "cell_type": "markdown",
   "metadata": {
    "deletable": true,
    "editable": true
   },
   "source": [
    "## Preprocess all the data and save it\n",
    "Running the code cell below will preprocess all the CIFAR-10 data and save it to file. The code below also uses 10% of the training data for validation."
   ]
  },
  {
   "cell_type": "code",
   "execution_count": 8,
   "metadata": {
    "collapsed": false,
    "deletable": true,
    "editable": true
   },
   "outputs": [],
   "source": [
    "\"\"\"\n",
    "DON'T MODIFY ANYTHING IN THIS CELL\n",
    "\"\"\"\n",
    "# Preprocess Training, Validation, and Testing Data\n",
    "helper.preprocess_and_save_data(cifar10_dataset_folder_path, normalize, one_hot_encode)"
   ]
  },
  {
   "cell_type": "markdown",
   "metadata": {
    "deletable": true,
    "editable": true
   },
   "source": [
    "# Check Point\n",
    "This is your first checkpoint.  If you ever decide to come back to this notebook or have to restart the notebook, you can start from here.  The preprocessed data has been saved to disk."
   ]
  },
  {
   "cell_type": "code",
   "execution_count": 9,
   "metadata": {
    "collapsed": true,
    "deletable": true,
    "editable": true
   },
   "outputs": [],
   "source": [
    "\"\"\"\n",
    "DON'T MODIFY ANYTHING IN THIS CELL\n",
    "\"\"\"\n",
    "import pickle\n",
    "import problem_unittests as tests\n",
    "import helper\n",
    "\n",
    "# Load the Preprocessed Validation data\n",
    "valid_features, valid_labels = pickle.load(open('preprocess_validation.p', mode='rb'))"
   ]
  },
  {
   "cell_type": "markdown",
   "metadata": {
    "deletable": true,
    "editable": true
   },
   "source": [
    "## Build the network\n",
    "For the neural network, you'll build each layer into a function.  Most of the code you've seen has been outside of functions. To test your code more thoroughly, we require that you put each layer in a function.  This allows us to give you better feedback and test for simple mistakes using our unittests before you submit your project.\n",
    "\n",
    ">**Note:** If you're finding it hard to dedicate enough time for this course each week, we've provided a small shortcut to this part of the project. In the next couple of problems, you'll have the option to use classes from the [TensorFlow Layers](https://www.tensorflow.org/api_docs/python/tf/layers) or [TensorFlow Layers (contrib)](https://www.tensorflow.org/api_guides/python/contrib.layers) packages to build each layer, except the layers you build in the \"Convolutional and Max Pooling Layer\" section.  TF Layers is similar to Keras's and TFLearn's abstraction to layers, so it's easy to pickup.\n",
    "\n",
    ">However, if you would like to get the most out of this course, try to solve all the problems _without_ using anything from the TF Layers packages. You **can** still use classes from other packages that happen to have the same name as ones you find in TF Layers! For example, instead of using the TF Layers version of the `conv2d` class, [tf.layers.conv2d](https://www.tensorflow.org/api_docs/python/tf/layers/conv2d), you would want to use the TF Neural Network version of `conv2d`, [tf.nn.conv2d](https://www.tensorflow.org/api_docs/python/tf/nn/conv2d). \n",
    "\n",
    "Let's begin!\n",
    "\n",
    "### Input\n",
    "The neural network needs to read the image data, one-hot encoded labels, and dropout keep probability. Implement the following functions\n",
    "* Implement `neural_net_image_input`\n",
    " * Return a [TF Placeholder](https://www.tensorflow.org/api_docs/python/tf/placeholder)\n",
    " * Set the shape using `image_shape` with batch size set to `None`.\n",
    " * Name the TensorFlow placeholder \"x\" using the TensorFlow `name` parameter in the [TF Placeholder](https://www.tensorflow.org/api_docs/python/tf/placeholder).\n",
    "* Implement `neural_net_label_input`\n",
    " * Return a [TF Placeholder](https://www.tensorflow.org/api_docs/python/tf/placeholder)\n",
    " * Set the shape using `n_classes` with batch size set to `None`.\n",
    " * Name the TensorFlow placeholder \"y\" using the TensorFlow `name` parameter in the [TF Placeholder](https://www.tensorflow.org/api_docs/python/tf/placeholder).\n",
    "* Implement `neural_net_keep_prob_input`\n",
    " * Return a [TF Placeholder](https://www.tensorflow.org/api_docs/python/tf/placeholder) for dropout keep probability.\n",
    " * Name the TensorFlow placeholder \"keep_prob\" using the TensorFlow `name` parameter in the [TF Placeholder](https://www.tensorflow.org/api_docs/python/tf/placeholder).\n",
    "\n",
    "These names will be used at the end of the project to load your saved model.\n",
    "\n",
    "Note: `None` for shapes in TensorFlow allow for a dynamic size."
   ]
  },
  {
   "cell_type": "code",
   "execution_count": 11,
   "metadata": {
    "collapsed": false,
    "deletable": true,
    "editable": true
   },
   "outputs": [
    {
     "name": "stdout",
     "output_type": "stream",
     "text": [
      "Image Input Tests Passed.\n",
      "Label Input Tests Passed.\n",
      "Keep Prob Tests Passed.\n"
     ]
    }
   ],
   "source": [
    "import tensorflow as tf\n",
    "\n",
    "def neural_net_image_input(image_shape):\n",
    "    \"\"\"\n",
    "    Return a Tensor for a bach of image input\n",
    "    : image_shape: Shape of the images\n",
    "    : return: Tensor for image input.\n",
    "    \"\"\"\n",
    "    # TODO: Implement Function\n",
    "    x = tf.placeholder(tf.float32, (None, *image_shape), name=\"x\")\n",
    "    return x\n",
    "\n",
    "\n",
    "def neural_net_label_input(n_classes):\n",
    "    \"\"\"\n",
    "    Return a Tensor for a batch of label input\n",
    "    : n_classes: Number of classes\n",
    "    : return: Tensor for label input.\n",
    "    \"\"\"\n",
    "    # TODO: Implement Function\n",
    "    y = tf.placeholder(tf.float32, [None, n_classes], name=\"y\")\n",
    "    return y\n",
    "\n",
    "\n",
    "def neural_net_keep_prob_input():\n",
    "    \"\"\"\n",
    "    Return a Tensor for keep probability\n",
    "    : return: Tensor for keep probability.\n",
    "    \"\"\"\n",
    "    # TODO: Implement Function\n",
    "    return tf.placeholder(tf.float32, name = \"keep_prob\")\n",
    "\n",
    "\n",
    "\"\"\"\n",
    "DON'T MODIFY ANYTHING IN THIS CELL THAT IS BELOW THIS LINE\n",
    "\"\"\"\n",
    "tf.reset_default_graph()\n",
    "tests.test_nn_image_inputs(neural_net_image_input)\n",
    "tests.test_nn_label_inputs(neural_net_label_input)\n",
    "tests.test_nn_keep_prob_inputs(neural_net_keep_prob_input)"
   ]
  },
  {
   "cell_type": "markdown",
   "metadata": {
    "deletable": true,
    "editable": true
   },
   "source": [
    "### Convolution and Max Pooling Layer\n",
    "Convolution layers have a lot of success with images. For this code cell, you should implement the function `conv2d_maxpool` to apply convolution then max pooling:\n",
    "* Create the weight and bias using `conv_ksize`, `conv_num_outputs` and the shape of `x_tensor`.\n",
    "* Apply a convolution to `x_tensor` using weight and `conv_strides`.\n",
    " * We recommend you use same padding, but you're welcome to use any padding.\n",
    "* Add bias\n",
    "* Add a nonlinear activation to the convolution.\n",
    "* Apply Max Pooling using `pool_ksize` and `pool_strides`.\n",
    " * We recommend you use same padding, but you're welcome to use any padding.\n",
    "\n",
    "**Note:** You **can't** use [TensorFlow Layers](https://www.tensorflow.org/api_docs/python/tf/layers) or [TensorFlow Layers (contrib)](https://www.tensorflow.org/api_guides/python/contrib.layers) for **this** layer, but you can still use TensorFlow's [Neural Network](https://www.tensorflow.org/api_docs/python/tf/nn) package. You may still use the shortcut option for all the **other** layers."
   ]
  },
  {
   "cell_type": "code",
   "execution_count": 15,
   "metadata": {
    "collapsed": false,
    "deletable": true,
    "editable": true
   },
   "outputs": [
    {
     "name": "stdout",
     "output_type": "stream",
     "text": [
      "Tests Passed\n"
     ]
    }
   ],
   "source": [
    "def conv2d_maxpool(x_tensor, conv_num_outputs, conv_ksize, conv_strides, pool_ksize, pool_strides):\n",
    "    \"\"\"\n",
    "    Apply convolution then max pooling to x_tensor\n",
    "    :param x_tensor: TensorFlow Tensor\n",
    "    :param conv_num_outputs: Number of outputs for the convolutional layer\n",
    "    :param conv_ksize: kernal size 2-D Tuple for the convolutional layer\n",
    "    :param conv_strides: Stride 2-D Tuple for convolution\n",
    "    :param pool_ksize: kernal size 2-D Tuple for pool\n",
    "    :param pool_strides: Stride 2-D Tuple for pool\n",
    "    : return: A tensor that represents convolution and max pooling of x_tensor\n",
    "    \"\"\"\n",
    "    # TODO: Implement Function\n",
    "    channels = x_tensor.get_shape().as_list()[3]\n",
    "    weights = tf.Variable(tf.truncated_normal([*conv_ksize,channels, conv_num_outputs], mean = 0, stddev = 0.1))\n",
    "    bias = tf.Variable(tf.zeros(conv_num_outputs))\n",
    "    x_tensor = tf.nn.conv2d(x_tensor, weights, strides = [1, *conv_strides, 1], padding='SAME') + bias \n",
    "    x_tensor = tf.nn.relu(x_tensor)\n",
    "    x_tensor = tf.nn.max_pool(x_tensor, ksize = [1, *conv_ksize, 1], strides = [1, *pool_strides, 1], padding = \"SAME\")\n",
    "    return x_tensor  \n",
    "\n",
    "\n",
    "\"\"\"\n",
    "DON'T MODIFY ANYTHING IN THIS CELL THAT IS BELOW THIS LINE\n",
    "\"\"\"\n",
    "tests.test_con_pool(conv2d_maxpool)"
   ]
  },
  {
   "cell_type": "markdown",
   "metadata": {
    "deletable": true,
    "editable": true
   },
   "source": [
    "### Flatten Layer\n",
    "Implement the `flatten` function to change the dimension of `x_tensor` from a 4-D tensor to a 2-D tensor.  The output should be the shape (*Batch Size*, *Flattened Image Size*). Shortcut option: you can use classes from the [TensorFlow Layers](https://www.tensorflow.org/api_docs/python/tf/layers) or [TensorFlow Layers (contrib)](https://www.tensorflow.org/api_guides/python/contrib.layers) packages for this layer. For more of a challenge, only use other TensorFlow packages."
   ]
  },
  {
   "cell_type": "code",
   "execution_count": 18,
   "metadata": {
    "collapsed": false,
    "deletable": true,
    "editable": true
   },
   "outputs": [
    {
     "name": "stdout",
     "output_type": "stream",
     "text": [
      "Tests Passed\n"
     ]
    }
   ],
   "source": [
    "def flatten(x_tensor):\n",
    "    \"\"\"\n",
    "    Flatten x_tensor to (Batch Size, Flattened Image Size)\n",
    "    : x_tensor: A tensor of size (Batch Size, ...), where ... are the image dimensions.\n",
    "    : return: A tensor of size (Batch Size, Flattened Image Size).\n",
    "    \"\"\"\n",
    "    # TODO: Implement Function\n",
    "    width,height,depth = (x_tensor.get_shape().as_list()[1:4])\n",
    "    return tf.reshape(x_tensor, [-1,width*height*depth])\n",
    "    \n",
    "    # Alternate Easy Option:\n",
    "    # return tf.contrib.layers.flatten(x_tensor)\n",
    "\n",
    "\n",
    "\"\"\"\n",
    "DON'T MODIFY ANYTHING IN THIS CELL THAT IS BELOW THIS LINE\n",
    "\"\"\"\n",
    "tests.test_flatten(flatten)"
   ]
  },
  {
   "cell_type": "markdown",
   "metadata": {
    "deletable": true,
    "editable": true
   },
   "source": [
    "### Fully-Connected Layer\n",
    "Implement the `fully_conn` function to apply a fully connected layer to `x_tensor` with the shape (*Batch Size*, *num_outputs*). Shortcut option: you can use classes from the [TensorFlow Layers](https://www.tensorflow.org/api_docs/python/tf/layers) or [TensorFlow Layers (contrib)](https://www.tensorflow.org/api_guides/python/contrib.layers) packages for this layer. For more of a challenge, only use other TensorFlow packages."
   ]
  },
  {
   "cell_type": "code",
   "execution_count": 19,
   "metadata": {
    "collapsed": false,
    "deletable": true,
    "editable": true
   },
   "outputs": [
    {
     "name": "stdout",
     "output_type": "stream",
     "text": [
      "Tests Passed\n"
     ]
    }
   ],
   "source": [
    "def fully_conn(x_tensor, num_outputs):\n",
    "    \"\"\"\n",
    "    Apply a fully connected layer to x_tensor using weight and bias\n",
    "    : x_tensor: A 2-D tensor where the first dimension is batch size.\n",
    "    : num_outputs: The number of output that the new tensor should be.\n",
    "    : return: A 2-D tensor where the second dimension is num_outputs.\n",
    "    \"\"\"\n",
    "    # TODO: Implement Function\n",
    "    weights = tf.Variable(tf.truncated_normal([int(x_tensor.get_shape()[1]), num_outputs], mean=0, stddev=0.1))\n",
    "    bias = tf.Variable(tf.zeros(num_outputs))\n",
    "    return tf.nn.relu(tf.add(tf.matmul(x_tensor, weights), bias))\n",
    "    \n",
    "    # Alternate Easy Option:\n",
    "    # return tf.contrib.layers.fully_connected(x_tensor, num_outputs, activation_fn=tf.nn.relu)\n",
    "\n",
    "\n",
    "\"\"\"\n",
    "DON'T MODIFY ANYTHING IN THIS CELL THAT IS BELOW THIS LINE\n",
    "\"\"\"\n",
    "tests.test_fully_conn(fully_conn)"
   ]
  },
  {
   "cell_type": "markdown",
   "metadata": {
    "deletable": true,
    "editable": true
   },
   "source": [
    "### Output Layer\n",
    "Implement the `output` function to apply a fully connected layer to `x_tensor` with the shape (*Batch Size*, *num_outputs*). Shortcut option: you can use classes from the [TensorFlow Layers](https://www.tensorflow.org/api_docs/python/tf/layers) or [TensorFlow Layers (contrib)](https://www.tensorflow.org/api_guides/python/contrib.layers) packages for this layer. For more of a challenge, only use other TensorFlow packages.\n",
    "\n",
    "**Note:** Activation, softmax, or cross entropy should **not** be applied to this."
   ]
  },
  {
   "cell_type": "code",
   "execution_count": 20,
   "metadata": {
    "collapsed": false,
    "deletable": true,
    "editable": true
   },
   "outputs": [
    {
     "name": "stdout",
     "output_type": "stream",
     "text": [
      "Tests Passed\n"
     ]
    }
   ],
   "source": [
    "def output(x_tensor, num_outputs):\n",
    "    \"\"\"\n",
    "    Apply a output layer to x_tensor using weight and bias\n",
    "    : x_tensor: A 2-D tensor where the first dimension is batch size.\n",
    "    : num_outputs: The number of output that the new tensor should be.\n",
    "    : return: A 2-D tensor where the second dimension is num_outputs.\n",
    "    \"\"\"\n",
    "    # TODO: Implement Function\n",
    "    weights = tf.Variable(tf.truncated_normal([int(x_tensor.get_shape()[1]), num_outputs], mean=0, stddev=0.1))\n",
    "    bias = tf.Variable(tf.zeros([num_outputs]))\n",
    "    return tf.add(tf.matmul(x_tensor, weights), bias)\n",
    "   \n",
    "\n",
    "\n",
    "\"\"\"\n",
    "DON'T MODIFY ANYTHING IN THIS CELL THAT IS BELOW THIS LINE\n",
    "\"\"\"\n",
    "tests.test_output(output)"
   ]
  },
  {
   "cell_type": "markdown",
   "metadata": {
    "deletable": true,
    "editable": true
   },
   "source": [
    "### Create Convolutional Model\n",
    "Implement the function `conv_net` to create a convolutional neural network model. The function takes in a batch of images, `x`, and outputs logits.  Use the layers you created above to create this model:\n",
    "\n",
    "* Apply 1, 2, or 3 Convolution and Max Pool layers\n",
    "* Apply a Flatten Layer\n",
    "* Apply 1, 2, or 3 Fully Connected Layers\n",
    "* Apply an Output Layer\n",
    "* Return the output\n",
    "* Apply [TensorFlow's Dropout](https://www.tensorflow.org/api_docs/python/tf/nn/dropout) to one or more layers in the model using `keep_prob`. "
   ]
  },
  {
   "cell_type": "code",
   "execution_count": 73,
   "metadata": {
    "collapsed": false,
    "deletable": true,
    "editable": true
   },
   "outputs": [
    {
     "name": "stdout",
     "output_type": "stream",
     "text": [
      "Neural Network Built!\n"
     ]
    }
   ],
   "source": [
    "def conv_net(x, keep_prob):\n",
    "    \"\"\"\n",
    "    Create a convolutional neural network model\n",
    "    : x: Placeholder tensor that holds image data.\n",
    "    : keep_prob: Placeholder tensor that hold dropout keep probability.\n",
    "    : return: Tensor that represents logits\n",
    "    \"\"\"\n",
    "    # TODO: Apply 1, 2, or 3 Convolution and Max Pool layers\n",
    "    #    Play around with different number of outputs, kernel size and stride\n",
    "    \n",
    "    # Function Definition from Above:\n",
    "    #conv2d_maxpool(x_tensor, conv_num_outputs, conv_ksize, conv_strides, pool_ksize, pool_strides)\n",
    "    \n",
    "    x = conv2d_maxpool(x, conv_num_outputs = 32, conv_ksize = (4,4), conv_strides = (1,1), pool_ksize = (2,2), pool_strides= (1,1))\n",
    "    x = tf.nn.dropout(x, keep_prob+0.2) #keeping slightly higher dropout in 1st conv layer\n",
    "    x = conv2d_maxpool(x, conv_num_outputs = 64, conv_ksize = (5,5), conv_strides = (2,2), pool_ksize = (2,2), pool_strides= (1,1))\n",
    "    x = tf.nn.dropout(x, keep_prob)\n",
    "    \n",
    "    # TODO: Apply a Flatten Layer\n",
    "    # Function Definition from Above:\n",
    "    #   flatten(x_tensor)\n",
    "    x = flatten(x)\n",
    "\n",
    "    # TODO: Apply 1, 2, or 3 Fully Connected Layers\n",
    "    #    Play around with different number of outputs\n",
    "    # Function Definition from Above:\n",
    "    #   fully_conn(x_tensor, num_outputs)\n",
    "    \n",
    "    x = fully_conn(x, 256)\n",
    "    x = tf.nn.dropout(x, keep_prob)\n",
    "\n",
    "    # TODO: Apply an Output Layer\n",
    "    #    Set this to the number of classes\n",
    "    # Function Definition from Above:\n",
    "    #   output(x_tensor, num_outputs)\n",
    "    \n",
    "    x = output(x, 10)\n",
    "    # TODO: return output\n",
    "    return x\n",
    "\n",
    "\n",
    "\"\"\"\n",
    "DON'T MODIFY ANYTHING IN THIS CELL THAT IS BELOW THIS LINE\n",
    "\"\"\"\n",
    "\n",
    "##############################\n",
    "## Build the Neural Network ##\n",
    "##############################\n",
    "\n",
    "# Remove previous weights, bias, inputs, etc..\n",
    "tf.reset_default_graph()\n",
    "\n",
    "# Inputs\n",
    "x = neural_net_image_input((32, 32, 3))\n",
    "y = neural_net_label_input(10)\n",
    "keep_prob = neural_net_keep_prob_input()\n",
    "\n",
    "# Model\n",
    "logits = conv_net(x, keep_prob)\n",
    "\n",
    "# Name logits Tensor, so that is can be loaded from disk after training\n",
    "logits = tf.identity(logits, name='logits')\n",
    "\n",
    "# Loss and Optimizer\n",
    "cost = tf.reduce_mean(tf.nn.softmax_cross_entropy_with_logits(logits=logits, labels=y))\n",
    "optimizer = tf.train.AdamOptimizer().minimize(cost)\n",
    "\n",
    "# Accuracy\n",
    "correct_pred = tf.equal(tf.argmax(logits, 1), tf.argmax(y, 1))\n",
    "accuracy = tf.reduce_mean(tf.cast(correct_pred, tf.float32), name='accuracy')\n",
    "\n",
    "tests.test_conv_net(conv_net)"
   ]
  },
  {
   "cell_type": "markdown",
   "metadata": {
    "deletable": true,
    "editable": true
   },
   "source": [
    "## Train the Neural Network\n",
    "### Single Optimization\n",
    "Implement the function `train_neural_network` to do a single optimization.  The optimization should use `optimizer` to optimize in `session` with a `feed_dict` of the following:\n",
    "* `x` for image input\n",
    "* `y` for labels\n",
    "* `keep_prob` for keep probability for dropout\n",
    "\n",
    "This function will be called for each batch, so `tf.global_variables_initializer()` has already been called.\n",
    "\n",
    "Note: Nothing needs to be returned. This function is only optimizing the neural network."
   ]
  },
  {
   "cell_type": "code",
   "execution_count": 74,
   "metadata": {
    "collapsed": false,
    "deletable": true,
    "editable": true
   },
   "outputs": [
    {
     "name": "stdout",
     "output_type": "stream",
     "text": [
      "Tests Passed\n"
     ]
    }
   ],
   "source": [
    "def train_neural_network(session, optimizer, keep_probability, feature_batch, label_batch):\n",
    "    \"\"\"\n",
    "    Optimize the session on a batch of images and labels\n",
    "    : session: Current TensorFlow session\n",
    "    : optimizer: TensorFlow optimizer function\n",
    "    : keep_probability: keep probability\n",
    "    : feature_batch: Batch of Numpy image data\n",
    "    : label_batch: Batch of Numpy label data\n",
    "    \"\"\"\n",
    "    # TODO: Implement Function\n",
    "    feed_dict = {x : feature_batch, y : label_batch, keep_prob : keep_probability}\n",
    "    session.run([optimizer], feed_dict=feed_dict)\n",
    "\"\"\"\n",
    "DON'T MODIFY ANYTHING IN THIS CELL THAT IS BELOW THIS LINE\n",
    "\"\"\"\n",
    "tests.test_train_nn(train_neural_network)"
   ]
  },
  {
   "cell_type": "markdown",
   "metadata": {
    "deletable": true,
    "editable": true
   },
   "source": [
    "### Show Stats\n",
    "Implement the function `print_stats` to print loss and validation accuracy.  Use the global variables `valid_features` and `valid_labels` to calculate validation accuracy.  Use a keep probability of `1.0` to calculate the loss and validation accuracy."
   ]
  },
  {
   "cell_type": "code",
   "execution_count": 75,
   "metadata": {
    "collapsed": false,
    "deletable": true,
    "editable": true
   },
   "outputs": [],
   "source": [
    "def print_stats(session, feature_batch, label_batch, cost, accuracy):\n",
    "    \"\"\"\n",
    "    Print information about loss and validation accuracy\n",
    "    : session: Current TensorFlow session\n",
    "    : feature_batch: Batch of Numpy image data\n",
    "    : label_batch: Batch of Numpy label data\n",
    "    : cost: TensorFlow cost function\n",
    "    : accuracy: TensorFlow accuracy function\n",
    "    \"\"\"\n",
    "    # TODO: Implement Function\n",
    "    loss = session.run(cost, feed_dict={x:feature_batch, y:label_batch, keep_prob:1.0})\n",
    "    valid_acc, loss = session.run([accuracy,cost], feed_dict={x:valid_features, y:valid_labels, keep_prob:1.0})\n",
    "    print('Loss: {:>.4f} Validation Accuracy: {:.6f}'.format(loss, valid_acc))"
   ]
  },
  {
   "cell_type": "markdown",
   "metadata": {
    "deletable": true,
    "editable": true
   },
   "source": [
    "### Hyperparameters\n",
    "Tune the following parameters:\n",
    "* Set `epochs` to the number of iterations until the network stops learning or start overfitting\n",
    "* Set `batch_size` to the highest number that your machine has memory for.  Most people set them to common sizes of memory:\n",
    " * 64\n",
    " * 128\n",
    " * 256\n",
    " * ...\n",
    "* Set `keep_probability` to the probability of keeping a node using dropout"
   ]
  },
  {
   "cell_type": "code",
   "execution_count": 79,
   "metadata": {
    "collapsed": true,
    "deletable": true,
    "editable": true
   },
   "outputs": [],
   "source": [
    "# TODO: Tune Parameters\n",
    "epochs = 40\n",
    "batch_size = 256\n",
    "keep_probability = 0.6"
   ]
  },
  {
   "cell_type": "markdown",
   "metadata": {
    "deletable": true,
    "editable": true
   },
   "source": [
    "### Train on a Single CIFAR-10 Batch\n",
    "Instead of training the neural network on all the CIFAR-10 batches of data, let's use a single batch. This should save time while you iterate on the model to get a better accuracy.  Once the final validation accuracy is 50% or greater, run the model on all the data in the next section."
   ]
  },
  {
   "cell_type": "code",
   "execution_count": 80,
   "metadata": {
    "collapsed": false,
    "deletable": true,
    "editable": true
   },
   "outputs": [
    {
     "name": "stdout",
     "output_type": "stream",
     "text": [
      "Checking the Training on a Single Batch...\n",
      "Epoch  1, CIFAR-10 Batch 1:  Loss: 2.2775 Validation Accuracy: 0.166200\n",
      "Epoch  2, CIFAR-10 Batch 1:  Loss: 2.1320 Validation Accuracy: 0.228600\n",
      "Epoch  3, CIFAR-10 Batch 1:  Loss: 1.9477 Validation Accuracy: 0.326600\n",
      "Epoch  4, CIFAR-10 Batch 1:  Loss: 1.7973 Validation Accuracy: 0.380200\n",
      "Epoch  5, CIFAR-10 Batch 1:  Loss: 1.6928 Validation Accuracy: 0.408200\n",
      "Epoch  6, CIFAR-10 Batch 1:  Loss: 1.6091 Validation Accuracy: 0.435200\n",
      "Epoch  7, CIFAR-10 Batch 1:  Loss: 1.5294 Validation Accuracy: 0.460600\n",
      "Epoch  8, CIFAR-10 Batch 1:  Loss: 1.4746 Validation Accuracy: 0.464200\n",
      "Epoch  9, CIFAR-10 Batch 1:  Loss: 1.4320 Validation Accuracy: 0.476800\n",
      "Epoch 10, CIFAR-10 Batch 1:  Loss: 1.3909 Validation Accuracy: 0.495200\n",
      "Epoch 11, CIFAR-10 Batch 1:  Loss: 1.3699 Validation Accuracy: 0.513200\n",
      "Epoch 12, CIFAR-10 Batch 1:  Loss: 1.3260 Validation Accuracy: 0.529000\n",
      "Epoch 13, CIFAR-10 Batch 1:  Loss: 1.3102 Validation Accuracy: 0.529400\n",
      "Epoch 14, CIFAR-10 Batch 1:  Loss: 1.2669 Validation Accuracy: 0.543600\n",
      "Epoch 15, CIFAR-10 Batch 1:  Loss: 1.2794 Validation Accuracy: 0.542200\n",
      "Epoch 16, CIFAR-10 Batch 1:  Loss: 1.2357 Validation Accuracy: 0.557000\n",
      "Epoch 17, CIFAR-10 Batch 1:  Loss: 1.2328 Validation Accuracy: 0.560000\n",
      "Epoch 18, CIFAR-10 Batch 1:  Loss: 1.2038 Validation Accuracy: 0.573600\n",
      "Epoch 19, CIFAR-10 Batch 1:  Loss: 1.1998 Validation Accuracy: 0.573800\n",
      "Epoch 20, CIFAR-10 Batch 1:  Loss: 1.1488 Validation Accuracy: 0.596800\n",
      "Epoch 21, CIFAR-10 Batch 1:  Loss: 1.2426 Validation Accuracy: 0.569400\n",
      "Epoch 22, CIFAR-10 Batch 1:  Loss: 1.1718 Validation Accuracy: 0.586000\n",
      "Epoch 23, CIFAR-10 Batch 1:  Loss: 1.1651 Validation Accuracy: 0.590000\n",
      "Epoch 24, CIFAR-10 Batch 1:  Loss: 1.1325 Validation Accuracy: 0.601400\n",
      "Epoch 25, CIFAR-10 Batch 1:  Loss: 1.1044 Validation Accuracy: 0.608000\n",
      "Epoch 26, CIFAR-10 Batch 1:  Loss: 1.1340 Validation Accuracy: 0.598800\n",
      "Epoch 27, CIFAR-10 Batch 1:  Loss: 1.1201 Validation Accuracy: 0.609400\n",
      "Epoch 28, CIFAR-10 Batch 1:  Loss: 1.1359 Validation Accuracy: 0.600200\n",
      "Epoch 29, CIFAR-10 Batch 1:  Loss: 1.0795 Validation Accuracy: 0.621000\n",
      "Epoch 30, CIFAR-10 Batch 1:  Loss: 1.0910 Validation Accuracy: 0.619800\n",
      "Epoch 31, CIFAR-10 Batch 1:  Loss: 1.1094 Validation Accuracy: 0.610600\n",
      "Epoch 32, CIFAR-10 Batch 1:  Loss: 1.1738 Validation Accuracy: 0.587800\n",
      "Epoch 33, CIFAR-10 Batch 1:  Loss: 1.0550 Validation Accuracy: 0.626400\n",
      "Epoch 34, CIFAR-10 Batch 1:  Loss: 1.1040 Validation Accuracy: 0.613400\n",
      "Epoch 35, CIFAR-10 Batch 1:  Loss: 1.0623 Validation Accuracy: 0.624200\n",
      "Epoch 36, CIFAR-10 Batch 1:  Loss: 1.0487 Validation Accuracy: 0.635400\n",
      "Epoch 37, CIFAR-10 Batch 1:  Loss: 1.0512 Validation Accuracy: 0.628200\n",
      "Epoch 38, CIFAR-10 Batch 1:  Loss: 1.0835 Validation Accuracy: 0.625600\n",
      "Epoch 39, CIFAR-10 Batch 1:  Loss: 1.1245 Validation Accuracy: 0.613400\n",
      "Epoch 40, CIFAR-10 Batch 1:  Loss: 1.0701 Validation Accuracy: 0.625600\n"
     ]
    }
   ],
   "source": [
    "\"\"\"\n",
    "DON'T MODIFY ANYTHING IN THIS CELL\n",
    "\"\"\"\n",
    "print('Checking the Training on a Single Batch...')\n",
    "with tf.Session() as sess:\n",
    "    # Initializing the variables\n",
    "    sess.run(tf.global_variables_initializer())\n",
    "    \n",
    "    # Training cycle\n",
    "    for epoch in range(epochs):\n",
    "        batch_i = 1\n",
    "        for batch_features, batch_labels in helper.load_preprocess_training_batch(batch_i, batch_size):\n",
    "            train_neural_network(sess, optimizer, keep_probability, batch_features, batch_labels)\n",
    "        print('Epoch {:>2}, CIFAR-10 Batch {}:  '.format(epoch + 1, batch_i), end='')\n",
    "        print_stats(sess, batch_features, batch_labels, cost, accuracy)"
   ]
  },
  {
   "cell_type": "markdown",
   "metadata": {
    "deletable": true,
    "editable": true
   },
   "source": [
    "### Fully Train the Model\n",
    "Now that you got a good accuracy with a single CIFAR-10 batch, try it with all five batches."
   ]
  },
  {
   "cell_type": "code",
   "execution_count": 81,
   "metadata": {
    "collapsed": false,
    "deletable": true,
    "editable": true
   },
   "outputs": [
    {
     "name": "stdout",
     "output_type": "stream",
     "text": [
      "Training...\n",
      "Epoch  1, CIFAR-10 Batch 1:  Loss: 2.2967 Validation Accuracy: 0.118400\n",
      "Epoch  1, CIFAR-10 Batch 2:  Loss: 2.2547 Validation Accuracy: 0.168800\n",
      "Epoch  1, CIFAR-10 Batch 3:  Loss: 2.1310 Validation Accuracy: 0.224800\n",
      "Epoch  1, CIFAR-10 Batch 4:  Loss: 1.9293 Validation Accuracy: 0.309200\n",
      "Epoch  1, CIFAR-10 Batch 5:  Loss: 1.8024 Validation Accuracy: 0.347400\n",
      "Epoch  2, CIFAR-10 Batch 1:  Loss: 1.7152 Validation Accuracy: 0.384400\n",
      "Epoch  2, CIFAR-10 Batch 2:  Loss: 1.6214 Validation Accuracy: 0.409600\n",
      "Epoch  2, CIFAR-10 Batch 3:  Loss: 1.5680 Validation Accuracy: 0.433200\n",
      "Epoch  2, CIFAR-10 Batch 4:  Loss: 1.5733 Validation Accuracy: 0.423600\n",
      "Epoch  2, CIFAR-10 Batch 5:  Loss: 1.5004 Validation Accuracy: 0.466200\n",
      "Epoch  3, CIFAR-10 Batch 1:  Loss: 1.4341 Validation Accuracy: 0.484600\n",
      "Epoch  3, CIFAR-10 Batch 2:  Loss: 1.4162 Validation Accuracy: 0.490400\n",
      "Epoch  3, CIFAR-10 Batch 3:  Loss: 1.3817 Validation Accuracy: 0.506400\n",
      "Epoch  3, CIFAR-10 Batch 4:  Loss: 1.3483 Validation Accuracy: 0.521000\n",
      "Epoch  3, CIFAR-10 Batch 5:  Loss: 1.3221 Validation Accuracy: 0.524200\n",
      "Epoch  4, CIFAR-10 Batch 1:  Loss: 1.2920 Validation Accuracy: 0.544400\n",
      "Epoch  4, CIFAR-10 Batch 2:  Loss: 1.2965 Validation Accuracy: 0.537600\n",
      "Epoch  4, CIFAR-10 Batch 3:  Loss: 1.2623 Validation Accuracy: 0.549000\n",
      "Epoch  4, CIFAR-10 Batch 4:  Loss: 1.2605 Validation Accuracy: 0.540400\n",
      "Epoch  4, CIFAR-10 Batch 5:  Loss: 1.2301 Validation Accuracy: 0.559600\n",
      "Epoch  5, CIFAR-10 Batch 1:  Loss: 1.2005 Validation Accuracy: 0.570600\n",
      "Epoch  5, CIFAR-10 Batch 2:  Loss: 1.2169 Validation Accuracy: 0.563200\n",
      "Epoch  5, CIFAR-10 Batch 3:  Loss: 1.1807 Validation Accuracy: 0.576800\n",
      "Epoch  5, CIFAR-10 Batch 4:  Loss: 1.1774 Validation Accuracy: 0.584000\n",
      "Epoch  5, CIFAR-10 Batch 5:  Loss: 1.1644 Validation Accuracy: 0.586800\n",
      "Epoch  6, CIFAR-10 Batch 1:  Loss: 1.1700 Validation Accuracy: 0.585200\n",
      "Epoch  6, CIFAR-10 Batch 2:  Loss: 1.1370 Validation Accuracy: 0.596800\n",
      "Epoch  6, CIFAR-10 Batch 3:  Loss: 1.1150 Validation Accuracy: 0.605200\n",
      "Epoch  6, CIFAR-10 Batch 4:  Loss: 1.1494 Validation Accuracy: 0.593000\n",
      "Epoch  6, CIFAR-10 Batch 5:  Loss: 1.0686 Validation Accuracy: 0.631600\n",
      "Epoch  7, CIFAR-10 Batch 1:  Loss: 1.0688 Validation Accuracy: 0.626000\n",
      "Epoch  7, CIFAR-10 Batch 2:  Loss: 1.0764 Validation Accuracy: 0.623400\n",
      "Epoch  7, CIFAR-10 Batch 3:  Loss: 1.0634 Validation Accuracy: 0.626000\n",
      "Epoch  7, CIFAR-10 Batch 4:  Loss: 1.1818 Validation Accuracy: 0.594000\n",
      "Epoch  7, CIFAR-10 Batch 5:  Loss: 1.0342 Validation Accuracy: 0.635600\n",
      "Epoch  8, CIFAR-10 Batch 1:  Loss: 1.0660 Validation Accuracy: 0.623400\n",
      "Epoch  8, CIFAR-10 Batch 2:  Loss: 1.0756 Validation Accuracy: 0.626400\n",
      "Epoch  8, CIFAR-10 Batch 3:  Loss: 1.0292 Validation Accuracy: 0.640600\n",
      "Epoch  8, CIFAR-10 Batch 4:  Loss: 1.0204 Validation Accuracy: 0.637000\n",
      "Epoch  8, CIFAR-10 Batch 5:  Loss: 0.9804 Validation Accuracy: 0.660000\n",
      "Epoch  9, CIFAR-10 Batch 1:  Loss: 1.0358 Validation Accuracy: 0.630000\n",
      "Epoch  9, CIFAR-10 Batch 2:  Loss: 0.9738 Validation Accuracy: 0.658600\n",
      "Epoch  9, CIFAR-10 Batch 3:  Loss: 0.9863 Validation Accuracy: 0.649400\n",
      "Epoch  9, CIFAR-10 Batch 4:  Loss: 0.9531 Validation Accuracy: 0.665800\n",
      "Epoch  9, CIFAR-10 Batch 5:  Loss: 0.9630 Validation Accuracy: 0.658600\n",
      "Epoch 10, CIFAR-10 Batch 1:  Loss: 0.9859 Validation Accuracy: 0.649000\n",
      "Epoch 10, CIFAR-10 Batch 2:  Loss: 0.9661 Validation Accuracy: 0.666400\n",
      "Epoch 10, CIFAR-10 Batch 3:  Loss: 0.9926 Validation Accuracy: 0.644600\n",
      "Epoch 10, CIFAR-10 Batch 4:  Loss: 0.9500 Validation Accuracy: 0.668000\n",
      "Epoch 10, CIFAR-10 Batch 5:  Loss: 0.9408 Validation Accuracy: 0.671800\n",
      "Epoch 11, CIFAR-10 Batch 1:  Loss: 0.9369 Validation Accuracy: 0.669600\n",
      "Epoch 11, CIFAR-10 Batch 2:  Loss: 0.9239 Validation Accuracy: 0.674000\n",
      "Epoch 11, CIFAR-10 Batch 3:  Loss: 0.9501 Validation Accuracy: 0.661200\n",
      "Epoch 11, CIFAR-10 Batch 4:  Loss: 0.9329 Validation Accuracy: 0.683000\n",
      "Epoch 11, CIFAR-10 Batch 5:  Loss: 0.8934 Validation Accuracy: 0.689000\n",
      "Epoch 12, CIFAR-10 Batch 1:  Loss: 0.9316 Validation Accuracy: 0.677600\n",
      "Epoch 12, CIFAR-10 Batch 2:  Loss: 0.9221 Validation Accuracy: 0.675800\n",
      "Epoch 12, CIFAR-10 Batch 3:  Loss: 0.8810 Validation Accuracy: 0.693400\n",
      "Epoch 12, CIFAR-10 Batch 4:  Loss: 0.8996 Validation Accuracy: 0.687000\n",
      "Epoch 12, CIFAR-10 Batch 5:  Loss: 0.8765 Validation Accuracy: 0.701800\n",
      "Epoch 13, CIFAR-10 Batch 1:  Loss: 0.9327 Validation Accuracy: 0.668800\n",
      "Epoch 13, CIFAR-10 Batch 2:  Loss: 0.9081 Validation Accuracy: 0.685600\n",
      "Epoch 13, CIFAR-10 Batch 3:  Loss: 0.8780 Validation Accuracy: 0.695600\n",
      "Epoch 13, CIFAR-10 Batch 4:  Loss: 0.9226 Validation Accuracy: 0.679600\n",
      "Epoch 13, CIFAR-10 Batch 5:  Loss: 0.8654 Validation Accuracy: 0.700000\n",
      "Epoch 14, CIFAR-10 Batch 1:  Loss: 0.8595 Validation Accuracy: 0.707800\n",
      "Epoch 14, CIFAR-10 Batch 2:  Loss: 0.8703 Validation Accuracy: 0.701600\n",
      "Epoch 14, CIFAR-10 Batch 3:  Loss: 0.9087 Validation Accuracy: 0.683600\n",
      "Epoch 14, CIFAR-10 Batch 4:  Loss: 0.8452 Validation Accuracy: 0.709800\n",
      "Epoch 14, CIFAR-10 Batch 5:  Loss: 0.8434 Validation Accuracy: 0.710400\n",
      "Epoch 15, CIFAR-10 Batch 1:  Loss: 0.8499 Validation Accuracy: 0.702200\n",
      "Epoch 15, CIFAR-10 Batch 2:  Loss: 0.8640 Validation Accuracy: 0.699400\n",
      "Epoch 15, CIFAR-10 Batch 3:  Loss: 0.8609 Validation Accuracy: 0.693000\n",
      "Epoch 15, CIFAR-10 Batch 4:  Loss: 0.8498 Validation Accuracy: 0.711800\n",
      "Epoch 15, CIFAR-10 Batch 5:  Loss: 0.8297 Validation Accuracy: 0.709000\n",
      "Epoch 16, CIFAR-10 Batch 1:  Loss: 0.8439 Validation Accuracy: 0.705600\n",
      "Epoch 16, CIFAR-10 Batch 2:  Loss: 0.8717 Validation Accuracy: 0.701800\n",
      "Epoch 16, CIFAR-10 Batch 3:  Loss: 0.8647 Validation Accuracy: 0.697800\n",
      "Epoch 16, CIFAR-10 Batch 4:  Loss: 0.8420 Validation Accuracy: 0.704800\n",
      "Epoch 16, CIFAR-10 Batch 5:  Loss: 0.8166 Validation Accuracy: 0.719200\n",
      "Epoch 17, CIFAR-10 Batch 1:  Loss: 0.8031 Validation Accuracy: 0.720600\n",
      "Epoch 17, CIFAR-10 Batch 2:  Loss: 0.8089 Validation Accuracy: 0.720000\n",
      "Epoch 17, CIFAR-10 Batch 3:  Loss: 0.8531 Validation Accuracy: 0.696600\n",
      "Epoch 17, CIFAR-10 Batch 4:  Loss: 0.8090 Validation Accuracy: 0.718800\n",
      "Epoch 17, CIFAR-10 Batch 5:  Loss: 0.8117 Validation Accuracy: 0.719800\n",
      "Epoch 18, CIFAR-10 Batch 1:  Loss: 0.8616 Validation Accuracy: 0.700200\n",
      "Epoch 18, CIFAR-10 Batch 2:  Loss: 0.7996 Validation Accuracy: 0.727800\n",
      "Epoch 18, CIFAR-10 Batch 3:  Loss: 0.8567 Validation Accuracy: 0.698800\n",
      "Epoch 18, CIFAR-10 Batch 4:  Loss: 0.7869 Validation Accuracy: 0.732200\n",
      "Epoch 18, CIFAR-10 Batch 5:  Loss: 0.7944 Validation Accuracy: 0.725800\n",
      "Epoch 19, CIFAR-10 Batch 1:  Loss: 0.8476 Validation Accuracy: 0.705200\n",
      "Epoch 19, CIFAR-10 Batch 2:  Loss: 0.7774 Validation Accuracy: 0.730400\n",
      "Epoch 19, CIFAR-10 Batch 3:  Loss: 0.8055 Validation Accuracy: 0.721800\n",
      "Epoch 19, CIFAR-10 Batch 4:  Loss: 0.7819 Validation Accuracy: 0.729800\n",
      "Epoch 19, CIFAR-10 Batch 5:  Loss: 0.7920 Validation Accuracy: 0.726200\n",
      "Epoch 20, CIFAR-10 Batch 1:  Loss: 0.8290 Validation Accuracy: 0.716800\n",
      "Epoch 20, CIFAR-10 Batch 2:  Loss: 0.8102 Validation Accuracy: 0.721000\n",
      "Epoch 20, CIFAR-10 Batch 3:  Loss: 0.8131 Validation Accuracy: 0.718200\n",
      "Epoch 20, CIFAR-10 Batch 4:  Loss: 0.8053 Validation Accuracy: 0.722800\n",
      "Epoch 20, CIFAR-10 Batch 5:  Loss: 0.7924 Validation Accuracy: 0.727600\n",
      "Epoch 21, CIFAR-10 Batch 1:  Loss: 0.8397 Validation Accuracy: 0.713600\n",
      "Epoch 21, CIFAR-10 Batch 2:  Loss: 0.8041 Validation Accuracy: 0.724400\n",
      "Epoch 21, CIFAR-10 Batch 3:  Loss: 0.8264 Validation Accuracy: 0.709000\n",
      "Epoch 21, CIFAR-10 Batch 4:  Loss: 0.7808 Validation Accuracy: 0.738800\n",
      "Epoch 21, CIFAR-10 Batch 5:  Loss: 0.7854 Validation Accuracy: 0.734000\n",
      "Epoch 22, CIFAR-10 Batch 1:  Loss: 0.8024 Validation Accuracy: 0.729200\n",
      "Epoch 22, CIFAR-10 Batch 2:  Loss: 0.7763 Validation Accuracy: 0.733200\n",
      "Epoch 22, CIFAR-10 Batch 3:  Loss: 0.8364 Validation Accuracy: 0.709400\n",
      "Epoch 22, CIFAR-10 Batch 4:  Loss: 0.7765 Validation Accuracy: 0.737600\n",
      "Epoch 22, CIFAR-10 Batch 5:  Loss: 0.7990 Validation Accuracy: 0.731600\n",
      "Epoch 23, CIFAR-10 Batch 1:  Loss: 0.7895 Validation Accuracy: 0.733400\n",
      "Epoch 23, CIFAR-10 Batch 2:  Loss: 0.7687 Validation Accuracy: 0.742600\n",
      "Epoch 23, CIFAR-10 Batch 3:  Loss: 0.7665 Validation Accuracy: 0.733600\n",
      "Epoch 23, CIFAR-10 Batch 4:  Loss: 0.7665 Validation Accuracy: 0.738000\n",
      "Epoch 23, CIFAR-10 Batch 5:  Loss: 0.7652 Validation Accuracy: 0.733400\n",
      "Epoch 24, CIFAR-10 Batch 1:  Loss: 0.7835 Validation Accuracy: 0.734000\n",
      "Epoch 24, CIFAR-10 Batch 2:  Loss: 0.7632 Validation Accuracy: 0.742600\n",
      "Epoch 24, CIFAR-10 Batch 3:  Loss: 0.7692 Validation Accuracy: 0.735000\n",
      "Epoch 24, CIFAR-10 Batch 4:  Loss: 0.7700 Validation Accuracy: 0.737800\n",
      "Epoch 24, CIFAR-10 Batch 5:  Loss: 0.7584 Validation Accuracy: 0.745000\n",
      "Epoch 25, CIFAR-10 Batch 1:  Loss: 0.7638 Validation Accuracy: 0.736200\n",
      "Epoch 25, CIFAR-10 Batch 2:  Loss: 0.7710 Validation Accuracy: 0.738800\n",
      "Epoch 25, CIFAR-10 Batch 3:  Loss: 0.7634 Validation Accuracy: 0.738000\n",
      "Epoch 25, CIFAR-10 Batch 4:  Loss: 0.7785 Validation Accuracy: 0.733200\n",
      "Epoch 25, CIFAR-10 Batch 5:  Loss: 0.7385 Validation Accuracy: 0.748200\n",
      "Epoch 26, CIFAR-10 Batch 1:  Loss: 0.7600 Validation Accuracy: 0.744000\n",
      "Epoch 26, CIFAR-10 Batch 2:  Loss: 0.7741 Validation Accuracy: 0.740200\n",
      "Epoch 26, CIFAR-10 Batch 3:  Loss: 0.7745 Validation Accuracy: 0.735800\n",
      "Epoch 26, CIFAR-10 Batch 4:  Loss: 0.7803 Validation Accuracy: 0.736200\n",
      "Epoch 26, CIFAR-10 Batch 5:  Loss: 0.7839 Validation Accuracy: 0.735200\n",
      "Epoch 27, CIFAR-10 Batch 1:  Loss: 0.7398 Validation Accuracy: 0.746400\n",
      "Epoch 27, CIFAR-10 Batch 2:  Loss: 0.7607 Validation Accuracy: 0.738600\n",
      "Epoch 27, CIFAR-10 Batch 3:  Loss: 0.7470 Validation Accuracy: 0.755200\n",
      "Epoch 27, CIFAR-10 Batch 4:  Loss: 0.7428 Validation Accuracy: 0.744800\n",
      "Epoch 27, CIFAR-10 Batch 5:  Loss: 0.7372 Validation Accuracy: 0.752200\n",
      "Epoch 28, CIFAR-10 Batch 1:  Loss: 0.7872 Validation Accuracy: 0.734400\n",
      "Epoch 28, CIFAR-10 Batch 2:  Loss: 0.7568 Validation Accuracy: 0.740400\n",
      "Epoch 28, CIFAR-10 Batch 3:  Loss: 0.7486 Validation Accuracy: 0.747800\n",
      "Epoch 28, CIFAR-10 Batch 4:  Loss: 0.7426 Validation Accuracy: 0.747800\n",
      "Epoch 28, CIFAR-10 Batch 5:  Loss: 0.7841 Validation Accuracy: 0.738800\n",
      "Epoch 29, CIFAR-10 Batch 1:  Loss: 0.7622 Validation Accuracy: 0.744000\n",
      "Epoch 29, CIFAR-10 Batch 2:  Loss: 0.7561 Validation Accuracy: 0.749200\n",
      "Epoch 29, CIFAR-10 Batch 3:  Loss: 0.7513 Validation Accuracy: 0.748400\n",
      "Epoch 29, CIFAR-10 Batch 4:  Loss: 0.7624 Validation Accuracy: 0.746000\n",
      "Epoch 29, CIFAR-10 Batch 5:  Loss: 0.7640 Validation Accuracy: 0.746600\n",
      "Epoch 30, CIFAR-10 Batch 1:  Loss: 0.7416 Validation Accuracy: 0.752600\n",
      "Epoch 30, CIFAR-10 Batch 2:  Loss: 0.7760 Validation Accuracy: 0.742000\n",
      "Epoch 30, CIFAR-10 Batch 3:  Loss: 0.7536 Validation Accuracy: 0.747200\n",
      "Epoch 30, CIFAR-10 Batch 4:  Loss: 0.7861 Validation Accuracy: 0.743200\n",
      "Epoch 30, CIFAR-10 Batch 5:  Loss: 0.7524 Validation Accuracy: 0.743800\n",
      "Epoch 31, CIFAR-10 Batch 1:  Loss: 0.7737 Validation Accuracy: 0.738000\n",
      "Epoch 31, CIFAR-10 Batch 2:  Loss: 0.7650 Validation Accuracy: 0.746000\n",
      "Epoch 31, CIFAR-10 Batch 3:  Loss: 0.7355 Validation Accuracy: 0.757200\n",
      "Epoch 31, CIFAR-10 Batch 4:  Loss: 0.7748 Validation Accuracy: 0.741400\n",
      "Epoch 31, CIFAR-10 Batch 5:  Loss: 0.7490 Validation Accuracy: 0.749200\n",
      "Epoch 32, CIFAR-10 Batch 1:  Loss: 0.7550 Validation Accuracy: 0.751200\n",
      "Epoch 32, CIFAR-10 Batch 2:  Loss: 0.7357 Validation Accuracy: 0.761200\n",
      "Epoch 32, CIFAR-10 Batch 3:  Loss: 0.7329 Validation Accuracy: 0.756400\n",
      "Epoch 32, CIFAR-10 Batch 4:  Loss: 0.7429 Validation Accuracy: 0.750000\n",
      "Epoch 32, CIFAR-10 Batch 5:  Loss: 0.7247 Validation Accuracy: 0.757400\n",
      "Epoch 33, CIFAR-10 Batch 1:  Loss: 0.7259 Validation Accuracy: 0.752200\n",
      "Epoch 33, CIFAR-10 Batch 2:  Loss: 0.7532 Validation Accuracy: 0.748000\n",
      "Epoch 33, CIFAR-10 Batch 3:  Loss: 0.7313 Validation Accuracy: 0.756800\n",
      "Epoch 33, CIFAR-10 Batch 4:  Loss: 0.7364 Validation Accuracy: 0.756600\n",
      "Epoch 33, CIFAR-10 Batch 5:  Loss: 0.7351 Validation Accuracy: 0.755000\n",
      "Epoch 34, CIFAR-10 Batch 1:  Loss: 0.7581 Validation Accuracy: 0.747400\n",
      "Epoch 34, CIFAR-10 Batch 2:  Loss: 0.7500 Validation Accuracy: 0.749400\n",
      "Epoch 34, CIFAR-10 Batch 3:  Loss: 0.7535 Validation Accuracy: 0.741000\n",
      "Epoch 34, CIFAR-10 Batch 4:  Loss: 0.7494 Validation Accuracy: 0.755400\n",
      "Epoch 34, CIFAR-10 Batch 5:  Loss: 0.7301 Validation Accuracy: 0.755600\n",
      "Epoch 35, CIFAR-10 Batch 1:  Loss: 0.7413 Validation Accuracy: 0.742400\n",
      "Epoch 35, CIFAR-10 Batch 2:  Loss: 0.7529 Validation Accuracy: 0.745800\n",
      "Epoch 35, CIFAR-10 Batch 3:  Loss: 0.7382 Validation Accuracy: 0.755400\n",
      "Epoch 35, CIFAR-10 Batch 4:  Loss: 0.7454 Validation Accuracy: 0.746800\n",
      "Epoch 35, CIFAR-10 Batch 5:  Loss: 0.7415 Validation Accuracy: 0.751000\n",
      "Epoch 36, CIFAR-10 Batch 1:  Loss: 0.7364 Validation Accuracy: 0.757400\n",
      "Epoch 36, CIFAR-10 Batch 2:  Loss: 0.7631 Validation Accuracy: 0.754800\n",
      "Epoch 36, CIFAR-10 Batch 3:  Loss: 0.7923 Validation Accuracy: 0.734400\n",
      "Epoch 36, CIFAR-10 Batch 4:  Loss: 0.7291 Validation Accuracy: 0.758200\n",
      "Epoch 36, CIFAR-10 Batch 5:  Loss: 0.7557 Validation Accuracy: 0.751600\n",
      "Epoch 37, CIFAR-10 Batch 1:  Loss: 0.7361 Validation Accuracy: 0.757600\n",
      "Epoch 37, CIFAR-10 Batch 2:  Loss: 0.7694 Validation Accuracy: 0.749800\n",
      "Epoch 37, CIFAR-10 Batch 3:  Loss: 0.8001 Validation Accuracy: 0.742800\n",
      "Epoch 37, CIFAR-10 Batch 4:  Loss: 0.7427 Validation Accuracy: 0.756600\n",
      "Epoch 37, CIFAR-10 Batch 5:  Loss: 0.7773 Validation Accuracy: 0.745400\n",
      "Epoch 38, CIFAR-10 Batch 1:  Loss: 0.7536 Validation Accuracy: 0.746800\n",
      "Epoch 38, CIFAR-10 Batch 2:  Loss: 0.7393 Validation Accuracy: 0.758600\n",
      "Epoch 38, CIFAR-10 Batch 3:  Loss: 0.7441 Validation Accuracy: 0.758000\n",
      "Epoch 38, CIFAR-10 Batch 4:  Loss: 0.7236 Validation Accuracy: 0.762000\n",
      "Epoch 38, CIFAR-10 Batch 5:  Loss: 0.7834 Validation Accuracy: 0.748000\n",
      "Epoch 39, CIFAR-10 Batch 1:  Loss: 0.7749 Validation Accuracy: 0.748800\n",
      "Epoch 39, CIFAR-10 Batch 2:  Loss: 0.7477 Validation Accuracy: 0.757200\n",
      "Epoch 39, CIFAR-10 Batch 3:  Loss: 0.8091 Validation Accuracy: 0.745200\n",
      "Epoch 39, CIFAR-10 Batch 4:  Loss: 0.7220 Validation Accuracy: 0.762200\n",
      "Epoch 39, CIFAR-10 Batch 5:  Loss: 0.7566 Validation Accuracy: 0.751000\n",
      "Epoch 40, CIFAR-10 Batch 1:  Loss: 0.7270 Validation Accuracy: 0.762800\n",
      "Epoch 40, CIFAR-10 Batch 2:  Loss: 0.7404 Validation Accuracy: 0.757400\n",
      "Epoch 40, CIFAR-10 Batch 3:  Loss: 0.7582 Validation Accuracy: 0.757800\n",
      "Epoch 40, CIFAR-10 Batch 4:  Loss: 0.7241 Validation Accuracy: 0.762400\n",
      "Epoch 40, CIFAR-10 Batch 5:  Loss: 0.7976 Validation Accuracy: 0.748800\n"
     ]
    }
   ],
   "source": [
    "\"\"\"\n",
    "DON'T MODIFY ANYTHING IN THIS CELL\n",
    "\"\"\"\n",
    "save_model_path = './image_classification'\n",
    "\n",
    "print('Training...')\n",
    "with tf.Session() as sess:\n",
    "    # Initializing the variables\n",
    "    sess.run(tf.global_variables_initializer())\n",
    "    \n",
    "    # Training cycle\n",
    "    for epoch in range(epochs):\n",
    "        # Loop over all batches\n",
    "        n_batches = 5\n",
    "        for batch_i in range(1, n_batches + 1):\n",
    "            for batch_features, batch_labels in helper.load_preprocess_training_batch(batch_i, batch_size):\n",
    "                train_neural_network(sess, optimizer, keep_probability, batch_features, batch_labels)\n",
    "            print('Epoch {:>2}, CIFAR-10 Batch {}:  '.format(epoch + 1, batch_i), end='')\n",
    "            print_stats(sess, batch_features, batch_labels, cost, accuracy)\n",
    "            \n",
    "    # Save Model\n",
    "    saver = tf.train.Saver()\n",
    "    save_path = saver.save(sess, save_model_path)"
   ]
  },
  {
   "cell_type": "markdown",
   "metadata": {
    "deletable": true,
    "editable": true
   },
   "source": [
    "# Checkpoint\n",
    "The model has been saved to disk.\n",
    "## Test Model\n",
    "Test your model against the test dataset.  This will be your final accuracy. You should have an accuracy greater than 50%. If you don't, keep tweaking the model architecture and parameters."
   ]
  },
  {
   "cell_type": "code",
   "execution_count": 82,
   "metadata": {
    "collapsed": false,
    "deletable": true,
    "editable": true
   },
   "outputs": [
    {
     "name": "stdout",
     "output_type": "stream",
     "text": [
      "Testing Accuracy: 0.74169921875\n",
      "\n"
     ]
    },
    {
     "data": {
      "image/png": "[encoded data removed]",
      "text/plain": [
       "<matplotlib.figure.Figure at 0x7fdbb60ace80>"
      ]
     },
     "metadata": {
      "image/png": {
       "height": 319,
       "width": 355
      }
     },
     "output_type": "display_data"
    }
   ],
   "source": [
    "\"\"\"\n",
    "DON'T MODIFY ANYTHING IN THIS CELL\n",
    "\"\"\"\n",
    "%matplotlib inline\n",
    "%config InlineBackend.figure_format = 'retina'\n",
    "\n",
    "import tensorflow as tf\n",
    "import pickle\n",
    "import helper\n",
    "import random\n",
    "\n",
    "# Set batch size if not already set\n",
    "try:\n",
    "    if batch_size:\n",
    "        pass\n",
    "except NameError:\n",
    "    batch_size = 64\n",
    "\n",
    "save_model_path = './image_classification'\n",
    "n_samples = 4\n",
    "top_n_predictions = 3\n",
    "\n",
    "def test_model():\n",
    "    \"\"\"\n",
    "    Test the saved model against the test dataset\n",
    "    \"\"\"\n",
    "\n",
    "    test_features, test_labels = pickle.load(open('preprocess_training.p', mode='rb'))\n",
    "    loaded_graph = tf.Graph()\n",
    "\n",
    "    with tf.Session(graph=loaded_graph) as sess:\n",
    "        # Load model\n",
    "        loader = tf.train.import_meta_graph(save_model_path + '.meta')\n",
    "        loader.restore(sess, save_model_path)\n",
    "\n",
    "        # Get Tensors from loaded model\n",
    "        loaded_x = loaded_graph.get_tensor_by_name('x:0')\n",
    "        loaded_y = loaded_graph.get_tensor_by_name('y:0')\n",
    "        loaded_keep_prob = loaded_graph.get_tensor_by_name('keep_prob:0')\n",
    "        loaded_logits = loaded_graph.get_tensor_by_name('logits:0')\n",
    "        loaded_acc = loaded_graph.get_tensor_by_name('accuracy:0')\n",
    "        \n",
    "        # Get accuracy in batches for memory limitations\n",
    "        test_batch_acc_total = 0\n",
    "        test_batch_count = 0\n",
    "        \n",
    "        for train_feature_batch, train_label_batch in helper.batch_features_labels(test_features, test_labels, batch_size):\n",
    "            test_batch_acc_total += sess.run(\n",
    "                loaded_acc,\n",
    "                feed_dict={loaded_x: train_feature_batch, loaded_y: train_label_batch, loaded_keep_prob: 1.0})\n",
    "            test_batch_count += 1\n",
    "\n",
    "        print('Testing Accuracy: {}\\n'.format(test_batch_acc_total/test_batch_count))\n",
    "\n",
    "        # Print Random Samples\n",
    "        random_test_features, random_test_labels = tuple(zip(*random.sample(list(zip(test_features, test_labels)), n_samples)))\n",
    "        random_test_predictions = sess.run(\n",
    "            tf.nn.top_k(tf.nn.softmax(loaded_logits), top_n_predictions),\n",
    "            feed_dict={loaded_x: random_test_features, loaded_y: random_test_labels, loaded_keep_prob: 1.0})\n",
    "        helper.display_image_predictions(random_test_features, random_test_labels, random_test_predictions)\n",
    "\n",
    "\n",
    "test_model()"
   ]
  },
  {
   "cell_type": "markdown",
   "metadata": {
    "deletable": true,
    "editable": true
   },
   "source": [
    "## Why 50-70% Accuracy?\n",
    "You might be wondering why you can't get an accuracy any higher. First things first, 50% isn't bad for a simple CNN.  Pure guessing would get you 10% accuracy. However, you might notice people are getting scores [well above 70%](http://rodrigob.github.io/are_we_there_yet/build/classification_datasets_results.html#43494641522d3130).  That's because we haven't taught you all there is to know about neural networks. We still need to cover a few more techniques.\n",
    "## Submitting This Project\n",
    "When submitting this project, make sure to run all the cells before saving the notebook.  Save the notebook file as \"dlnd_image_classification.ipynb\" and save it as a HTML file under \"File\" -> \"Download as\".  Include the \"helper.py\" and \"problem_unittests.py\" files in your submission."
   ]
  }
 ],
 "metadata": {
  "kernelspec": {
   "display_name": "Python 3",
   "language": "python",
   "name": "python3"
  },
  "language_info": {
   "codemirror_mode": {
    "name": "ipython",
    "version": 3
   },
   "file_extension": ".py",
   "mimetype": "text/x-python",
   "name": "python",
   "nbconvert_exporter": "python",
   "pygments_lexer": "ipython3",
   "version": "3.5.3"
  }
 },
 "nbformat": 4,
 "nbformat_minor": 0
}
